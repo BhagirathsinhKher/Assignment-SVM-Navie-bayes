{
  "nbformat": 4,
  "nbformat_minor": 0,
  "metadata": {
    "colab": {
      "provenance": []
    },
    "kernelspec": {
      "name": "python3",
      "display_name": "Python 3"
    },
    "language_info": {
      "name": "python"
    }
  },
  "cells": [
    {
      "cell_type": "markdown",
      "source": [
        "$$ #Theoretical $$"
      ],
      "metadata": {
        "id": "7k169WJLws8V"
      }
    },
    {
      "cell_type": "markdown",
      "source": [
        "1. What is a Support Vector Machine (SVM)?\n",
        "- **Definition:** SVM is a **supervised machine learning algorithm** used for **classification** and **regression** tasks.\n",
        "- **Goal:** It finds the **best hyperplane** that separates the data points of different classes with the **maximum margin**.\n",
        "- **Support Vectors:** The **data points closest to the hyperplane**, which influence its position.\n",
        "\n",
        "---"
      ],
      "metadata": {
        "id": "vnpq-D0fwy3g"
      }
    },
    {
      "cell_type": "markdown",
      "source": [
        "2. What is the difference between Hard Margin and Soft Margin SVM?\n",
        "\n",
        "- **Hard Margin SVM:** Assumes that the data is **perfectly linearly separable** with **no misclassifications** allowed.\n",
        "- **Soft Margin SVM:** Allows **some misclassifications** to achieve better generalization on **noisy or overlapping data**.\n",
        "- **Hard Margin Use Case:** Works well when data is **clean and clearly separable**.\n",
        "- **Soft Margin Use Case:** Preferred for **real-world data** where perfect separation is not possible.\n",
        "\n",
        "---"
      ],
      "metadata": {
        "id": "lNss1CQQcpeA"
      }
    },
    {
      "cell_type": "markdown",
      "source": [
        "3. What is the mathematical intuition behind SVM?\n",
        "- **Objective:** Maximize the **margin** between two classes while minimizing **classification error**.\n",
        "- **Hyperplane Equation:** A hyperplane is defined as **w·x + b = 0**, where:\n",
        "  - **w** = weight vector (direction of the hyperplane)\n",
        "  - **x** = input features\n",
        "  - **b** = bias term\n",
        "- **Margin:** Distance between the hyperplane and the **nearest data points** (support vectors).\n",
        "- **Optimization Goal:**  \n",
        "  - Minimize: **(1/2) ||w||²**  \n",
        "  - Subject to: **yᵢ(w·xᵢ + b) ≥ 1** for all data points  \n",
        "---"
      ],
      "metadata": {
        "id": "y_Dg3a-Qc0EQ"
      }
    },
    {
      "cell_type": "markdown",
      "source": [
        "4. What is the role of Lagrange Multipliers in SVM?\n",
        "- **Role:** Lagrange Multipliers help in solving the **optimization problem** of SVM by converting it into a **dual problem**.\n",
        "- **Purpose:** They allow handling **constraints** in the optimization using a mathematical formulation.\n",
        "- **Support Vectors:** Only data points with **non-zero Lagrange multipliers** become support vectors.\n",
        "- **Advantage:** Makes it easier to apply **kernel tricks** for non-linear data.\n",
        "---"
      ],
      "metadata": {
        "id": "zichMa8kc7Yf"
      }
    },
    {
      "cell_type": "markdown",
      "source": [
        "5.  What are Support Vectors in SVM?\n",
        "- **Definition:** Support Vectors are the **data points closest to the hyperplane**.\n",
        "- **Role:** They **define the margin** and influence the **position and orientation** of the hyperplane.\n",
        "- **Importance:** Removing a support vector can **change the decision boundary**.\n",
        "- **Note:** Only support vectors have **non-zero Lagrange multipliers**.\n",
        "---"
      ],
      "metadata": {
        "id": "Fnj9l7lKdGLy"
      }
    },
    {
      "cell_type": "markdown",
      "source": [
        "6. What is a Support Vector Classifier (SVC)?\n",
        "- **Definition:** Support Vector Classifier (SVC) is a **supervised learning model** that uses SVM to classify data into distinct classes.\n",
        "- **Objective:** It aims to find a **hyperplane** that best separates the classes by maximizing the **margin** between them.\n",
        "- **Key Feature:** SVC can be extended to handle **non-linear data** using **kernel functions** like RBF.\n",
        "- **Use Case:** Commonly used in **binary classification** problems.\n",
        "---"
      ],
      "metadata": {
        "id": "h4uSphAtdODY"
      }
    },
    {
      "cell_type": "markdown",
      "source": [
        "7. What is a Support Vector Regressor (SVR)?\n",
        "- **Definition:** Support Vector Regressor (SVR) is a variant of SVM used for **regression tasks**.\n",
        "- **Objective:** It aims to find a **hyperplane** that best fits the data while keeping most data points within a **tolerable margin of error** (epsilon).\n",
        "- **Key Feature:** SVR focuses on minimizing **prediction error** while allowing some deviations within the margin.\n",
        "- **Use Case:** Commonly used for predicting **continuous values**.\n",
        "---"
      ],
      "metadata": {
        "id": "gEsQVcDddno0"
      }
    },
    {
      "cell_type": "markdown",
      "source": [
        "8. What is the Kernel Trick in SVM?\n",
        "- **Definition:** The Kernel Trick is a technique that allows SVM to handle **non-linearly separable data** by implicitly mapping it to a higher-dimensional space.\n",
        "- **Function:** It computes the **dot product** of the transformed data points in the higher-dimensional space without explicitly calculating the transformation.\n",
        "- **Common Kernels:**\n",
        "  - **Linear Kernel:** No transformation, used for linearly separable data.\n",
        "  - **Polynomial Kernel:** Maps data to polynomial feature space.\n",
        "  - **RBF (Radial Basis Function) Kernel:** Maps data to an infinite-dimensional space, commonly used for complex, non-linear data.\n",
        "- **Advantage:** Reduces computation complexity while allowing SVM to work with non-linear decision boundaries.\n",
        "---"
      ],
      "metadata": {
        "id": "1nSLQ2Xuduru"
      }
    },
    {
      "cell_type": "markdown",
      "source": [
        "9. Compare Linear Kernel, Polynomial Kernel, and RBF Kernel.\n",
        "- **Linear Kernel:**  \n",
        "  - **Formula:** K(x, y) = x·y  \n",
        "  - **Use Case:** Used when data is **linearly separable**.\n",
        "  - **Advantages:** Simple, fast, and effective for linearly separable data.\n",
        "  - **Limitation:** Cannot handle non-linear data.\n",
        "\n",
        "- **Polynomial Kernel:**  \n",
        "  - **Formula:** K(x, y) = (x·y + c)ⁿ  \n",
        "  - **Use Case:** Suitable for **data with polynomial relationships**.\n",
        "  - **Advantages:** Can handle non-linear separations.\n",
        "  - **Limitation:** Computationally expensive as the degree increases.\n",
        "\n",
        "- **RBF (Radial Basis Function) Kernel:**  \n",
        "  - **Formula:** K(x, y) = exp(-γ||x - y||²)  \n",
        "  - **Use Case:** Used for **complex, non-linear data**.\n",
        "  - **Advantages:** Highly flexible and works well in most cases.\n",
        "  - **Limitation:** Requires careful tuning of the parameter γ.\n",
        "---"
      ],
      "metadata": {
        "id": "NbYBKSY1d2Xy"
      }
    },
    {
      "cell_type": "markdown",
      "source": [
        "10. What is the effect of the C parameter in SVM?\n",
        "- **Definition:** The **C parameter** controls the trade-off between maximizing the margin and minimizing the classification error.\n",
        "- **High C value:**  \n",
        "  - **Effect:** Increases emphasis on minimizing classification errors.\n",
        "  - **Result:** Model is more likely to **overfit** the data (tight margin).\n",
        "- **Low C value:**  \n",
        "  - **Effect:** Emphasizes maximizing the margin while allowing some misclassifications.\n",
        "  - **Result:** Model is more likely to **underfit** the data (wider margin).\n",
        "---"
      ],
      "metadata": {
        "id": "9fLFsmPKwbBt"
      }
    },
    {
      "cell_type": "markdown",
      "source": [
        "11. What is the role of the Gamma parameter in RBF Kernel SVM?\n",
        "- **Definition:** The **Gamma (γ)** parameter defines the influence of a single training point in the **RBF kernel**.\n",
        "- **Low Gamma value:**  \n",
        "  - **Effect:** Each data point has a **far-reaching influence**, leading to a smoother, **wider decision boundary**.\n",
        "  - **Result:** May cause **underfitting**.\n",
        "- **High Gamma value:**  \n",
        "  - **Effect:** Each data point has a **local influence**, making the decision boundary **tighter** around individual data points.\n",
        "  - **Result:** May cause **overfitting**.\n",
        "---"
      ],
      "metadata": {
        "id": "X10jPOqleJXh"
      }
    },
    {
      "cell_type": "markdown",
      "source": [
        "12.  What is the Naïve Bayes classifier, and why is it called \"Naïve\"?\n",
        "- **Definition:** Naïve Bayes is a **probabilistic classifier** based on **Bayes' Theorem**, which assumes that the features are **independent** given the class label.\n",
        "- **Bayes' Theorem:**  \n",
        "  - P(class|features) = (P(features|class) * P(class)) / P(features)\n",
        "- **Why \"Naïve\":**  \n",
        "  - The classifier is called **\"naïve\"** because it makes the **simplifying assumption** that all features are **independent**, which is often not true in real-world data.\n",
        "- **Use Case:** Works well for **text classification** problems like spam detection and sentiment analysis.\n",
        "---"
      ],
      "metadata": {
        "id": "ni6SUoHHeP1s"
      }
    },
    {
      "cell_type": "markdown",
      "source": [
        "13. What is Bayes’ Theorem?\n",
        "- **Definition:** Bayes' Theorem describes the **probability of a hypothesis** (event) based on prior knowledge and observed evidence.\n",
        "- **Formula:**  \n",
        "  $$ P(A|B) = \\frac{P(B|A) P(A)}{P(B)} $$\n",
        "  - **P(A|B):** Probability of hypothesis A given evidence B (posterior probability).\n",
        "  - **P(B|A):** Probability of observing evidence B given hypothesis A (likelihood).\n",
        "  - **P(A):** Prior probability of hypothesis A.\n",
        "  - **P(B):** Probability of evidence B.\n",
        "- **Use Case:** Widely used in **classification problems**, like Naïve Bayes classifiers.\n",
        "---"
      ],
      "metadata": {
        "id": "MhSWNTx3eXXF"
      }
    },
    {
      "cell_type": "markdown",
      "source": [
        "14. Explain the differences between Gaussian Naïve Bayes, Multinomial Naïve Bayes, and Bernoulli Naïve Bayes.\n",
        "- **Gaussian Naïve Bayes:**  \n",
        "  - **Assumption:** Assumes features follow a **Gaussian (normal) distribution**.\n",
        "  - **Use Case:** Works well for **continuous** features.\n",
        "  - **Formula:** The likelihood is modeled using the **normal distribution**.\n",
        "  \n",
        "- **Multinomial Naïve Bayes:**  \n",
        "  - **Assumption:** Assumes features are **discrete counts** (e.g., word frequencies).\n",
        "  - **Use Case:** Best suited for **document classification** or text data, where the features represent the frequency of terms.\n",
        "  - **Formula:** The likelihood is modeled using the **multinomial distribution**.\n",
        "\n",
        "- **Bernoulli Naïve Bayes:**  \n",
        "  - **Assumption:** Assumes features are **binary** (present or not, 0 or 1).\n",
        "  - **Use Case:** Used when features are binary, such as **document classification** with presence/absence of words.\n",
        "  - **Formula:** The likelihood is modeled using the **Bernoulli distribution**.\n",
        "---"
      ],
      "metadata": {
        "id": "EkCzJ5Wlefkv"
      }
    },
    {
      "cell_type": "markdown",
      "source": [
        "15. When should you use Gaussian Naïve Bayes over other variants?\n",
        "- **Use Case:** Gaussian Naïve Bayes should be used when the features are **continuous** and can be assumed to follow a **Gaussian (normal) distribution**.\n",
        "- **Conditions for Use:**  \n",
        "  - When the data is **normally distributed** or nearly normal.\n",
        "  - When **feature independence** is a valid assumption.\n",
        "- **Advantages:**  \n",
        "  - Simplicity and efficiency in classification tasks with continuous features.\n",
        "  - Works well when the data has **real-valued** attributes.\n",
        "---"
      ],
      "metadata": {
        "id": "sVp8-G6perMa"
      }
    },
    {
      "cell_type": "markdown",
      "source": [
        "16. What are the key assumptions made by Naïve Bayes?\n",
        "- **Feature Independence:** Assumes that the features are **independent** of each other given the class label.\n",
        "- **Conditional Probability:** Assumes that the probability of each feature is independent of the others, given the class.\n",
        "- **Class Conditional Independence:** Each feature contributes independently to the probability of the class, simplifying the computation of the posterior probability.\n",
        "- **Prior Probability:** Assumes that the prior probability of each class is known and does not change as new data is observed.\n",
        "---"
      ],
      "metadata": {
        "id": "kaISKolvezR7"
      }
    },
    {
      "cell_type": "markdown",
      "source": [
        "17. What are the advantages and disadvantages of Naïve Bayes?\n",
        "- **Advantages:**  \n",
        "  - **Simple and fast:** Efficient in terms of computation and memory.\n",
        "  - **Works well with high-dimensional data:** Suitable for text classification problems.\n",
        "  - **Performs well with small datasets:** Requires relatively few training samples.\n",
        "  - **Handles missing data well:** Can classify even with some missing feature values.\n",
        "  - **Works with both continuous and categorical data:** Variants like Gaussian, Multinomial, and Bernoulli handle different data types.\n",
        "\n",
        "- **Disadvantages:**  \n",
        "  - **Independence assumption:** Assumes that features are **independent**, which is often not the case in real-world data.\n",
        "  - **Poor performance with correlated features:** The model may perform poorly if the independence assumption is violated.\n",
        "  - **Limited expressiveness:** May not perform well in cases where complex relationships between features exist.\n",
        "---"
      ],
      "metadata": {
        "id": "ougMMhQ5e4PI"
      }
    },
    {
      "cell_type": "markdown",
      "source": [
        "18. Why is Naïve Bayes a good choice for text classification?\n",
        "- **High Dimensionality:** Text data often has a **large number of features** (e.g., words or terms), and Naïve Bayes performs well with such high-dimensional data.\n",
        "- **Assumption of Feature Independence:** In text classification, words are often treated as **independent features** (even though they're not perfectly independent), which aligns with the Naïve Bayes assumption.\n",
        "- **Efficient Computation:** Naïve Bayes is **computationally efficient**, making it ideal for large-scale text datasets.\n",
        "- **Works Well with Sparse Data:** Text data is usually sparse (many features are absent in most documents), and Naïve Bayes handles this sparsity effectively.\n",
        "- **Good Performance with Small Datasets:** Even with limited training data, Naïve Bayes can achieve reasonable performance, which is common in many text classification tasks like spam detection and sentiment analysis.\n",
        "---"
      ],
      "metadata": {
        "id": "f0T4XRjme-j2"
      }
    },
    {
      "cell_type": "markdown",
      "source": [
        "19. Compare SVM and Naïve Bayes for classification tasks?\n",
        "- **SVM:**  \n",
        "  - **Model Type:** **Non-probabilistic**, **discriminative** classifier.\n",
        "  - **Assumption:** Assumes that the data is **separable** with a **hyperplane**.\n",
        "  - **Performance:** Often performs better with **complex, non-linear data** and when the decision boundary is not linear.\n",
        "  - **Kernel Trick:** Can use the **kernel trick** to handle **non-linear data**.\n",
        "  - **Advantages:** Strong in high-dimensional spaces, especially in text classification tasks with clear decision boundaries.\n",
        "  - **Disadvantages:** Computationally expensive, especially with large datasets. Requires parameter tuning (C, Gamma).\n",
        "\n",
        "- **Naïve Bayes:**  \n",
        "  - **Model Type:** **Probabilistic** classifier.\n",
        "  - **Assumption:** Assumes **feature independence** (Naïve assumption), which may not hold in all cases.\n",
        "  - **Performance:** Performs well with **simple and well-defined problems**, and especially with text data like spam detection and sentiment analysis.\n",
        "  - **Kernel Trick:** Does not use kernel methods and is limited to simple models.\n",
        "  - **Advantages:** Fast, simple, works well with **high-dimensional** data, and handles missing values efficiently.\n",
        "  - **Disadvantages:** Assumption of feature independence is often violated, leading to suboptimal performance in some cases.\n",
        "---"
      ],
      "metadata": {
        "id": "bs7GvRFxfF1a"
      }
    },
    {
      "cell_type": "markdown",
      "source": [
        "20. How does Laplace Smoothing help in Naïve Bayes?\n",
        "- **Definition:** Laplace Smoothing (also known as **additive smoothing**) is a technique used to handle **zero probabilities** in Naïve Bayes.\n",
        "- **Problem:** In text classification, some words may **not appear** in the training data for certain classes, leading to a **probability of zero** for those words.\n",
        "- **Solution:** Laplace Smoothing adds a small constant (usually 1) to the **count of each feature**, ensuring that no probability is ever zero.\n",
        "- **Formula:**  \n",
        "  $$ P(w|c) = \\frac{count(w, c) + 1}{count(c) + V} $$\n",
        "  - **count(w, c):** Frequency of word *w* in class *c*.\n",
        "  - **count(c):** Total count of words in class *c*.\n",
        "  - **V:** Size of the vocabulary (total number of unique words).\n",
        "- **Benefit:** Ensures that every word has a non-zero probability, improving performance, especially with **sparse datasets**.\n",
        "---"
      ],
      "metadata": {
        "id": "62VZeOTHfNmI"
      }
    },
    {
      "cell_type": "markdown",
      "source": [
        "$$ #Practical $$"
      ],
      "metadata": {
        "id": "EuCtzarUfYK0"
      }
    },
    {
      "cell_type": "code",
      "source": [
        "#21. Write a Python program to train an SVM Classifier on the Iris dataset and evaluate accuracy.\n",
        "\n",
        "import numpy as np\n",
        "import pandas as pd\n",
        "from sklearn import datasets\n",
        "from sklearn.model_selection import train_test_split\n",
        "from sklearn.svm import SVC\n",
        "from sklearn.metrics import accuracy_score\n",
        "\n",
        "# Load the Iris dataset\n",
        "iris = datasets.load_iris()\n",
        "X = iris.data  # Features\n",
        "y = iris.target  # Target labels\n",
        "\n",
        "# Split the dataset into training and testing sets\n",
        "X_train, X_test, y_train, y_test = train_test_split(X, y, test_size=0.2, random_state=42)\n",
        "\n",
        "# Create an SVM classifier\n",
        "svm_classifier = SVC(kernel='linear')  # You can also try 'rbf', 'poly', etc.\n",
        "\n",
        "# Train the classifier\n",
        "svm_classifier.fit(X_train, y_train)\n",
        "\n",
        "# Make predictions on the test set\n",
        "y_pred = svm_classifier.predict(X_test)\n",
        "\n",
        "# Evaluate the accuracy\n",
        "accuracy = accuracy_score(y_test, y_pred)\n",
        "\n",
        "print(f'Accuracy of SVM Classifier on Iris dataset: {accuracy:.2f}')\n"
      ],
      "metadata": {
        "colab": {
          "base_uri": "https://localhost:8080/"
        },
        "id": "5z7W9vuJd_Gs",
        "outputId": "80fc9139-6e22-4ba7-a7ac-55a44896d3ac"
      },
      "execution_count": 1,
      "outputs": [
        {
          "output_type": "stream",
          "name": "stdout",
          "text": [
            "Accuracy of SVM Classifier on Iris dataset: 1.00\n"
          ]
        }
      ]
    },
    {
      "cell_type": "code",
      "source": [
        "#22. Write a Python program to train two SVM classifiers with Linear and RBF kernels on the Wine dataset, then compare their accuracies.\n",
        "\n",
        "from sklearn import datasets\n",
        "from sklearn.model_selection import train_test_split\n",
        "from sklearn.svm import SVC\n",
        "from sklearn.metrics import accuracy_score\n",
        "\n",
        "# Load the Wine dataset\n",
        "wine = datasets.load_wine()\n",
        "X = wine.data\n",
        "y = wine.target\n",
        "\n",
        "# Split dataset into training and testing sets (80% train, 20% test)\n",
        "X_train, X_test, y_train, y_test = train_test_split(X, y, test_size=0.2, random_state=42)\n",
        "\n",
        "# Create SVM classifiers with Linear and RBF kernels\n",
        "svm_linear = SVC(kernel='linear')\n",
        "svm_rbf = SVC(kernel='rbf')\n",
        "\n",
        "# Train the classifiers\n",
        "svm_linear.fit(X_train, y_train)\n",
        "svm_rbf.fit(X_train, y_train)\n",
        "\n",
        "# Predict on the test set\n",
        "y_pred_linear = svm_linear.predict(X_test)\n",
        "y_pred_rbf = svm_rbf.predict(X_test)\n",
        "\n",
        "# Calculate accuracies\n",
        "accuracy_linear = accuracy_score(y_test, y_pred_linear)\n",
        "accuracy_rbf = accuracy_score(y_test, y_pred_rbf)\n",
        "\n",
        "print(f\"Accuracy of SVM with Linear kernel: {accuracy_linear:.2f}\")\n",
        "print(f\"Accuracy of SVM with RBF kernel: {accuracy_rbf:.2f}\")\n"
      ],
      "metadata": {
        "colab": {
          "base_uri": "https://localhost:8080/"
        },
        "id": "ZgkmAXkef0ot",
        "outputId": "eb39b988-797b-4c51-90a5-7b2a8a369725"
      },
      "execution_count": 2,
      "outputs": [
        {
          "output_type": "stream",
          "name": "stdout",
          "text": [
            "Accuracy of SVM with Linear kernel: 1.00\n",
            "Accuracy of SVM with RBF kernel: 0.81\n"
          ]
        }
      ]
    },
    {
      "cell_type": "code",
      "source": [
        "#23. Write a Python program to train an SVM Regressor (SVR) on a housing dataset and evaluate it using Mean Squared Error (MSE).\n",
        "\n",
        "from sklearn.datasets import fetch_california_housing\n",
        "from sklearn.model_selection import train_test_split\n",
        "from sklearn.svm import SVR\n",
        "from sklearn.metrics import mean_squared_error\n",
        "\n",
        "# Load the California Housing dataset\n",
        "housing = fetch_california_housing()\n",
        "X = housing.data\n",
        "y = housing.target\n",
        "\n",
        "# Split the dataset into training and testing sets (80% train, 20% test)\n",
        "X_train, X_test, y_train, y_test = train_test_split(X, y, test_size=0.2, random_state=42)\n",
        "\n",
        "# Create an SVR model with RBF kernel (default)\n",
        "svr_model = SVR(kernel='rbf')\n",
        "\n",
        "# Train the SVR model\n",
        "svr_model.fit(X_train, y_train)\n",
        "\n",
        "# Predict on the test set\n",
        "y_pred = svr_model.predict(X_test)\n",
        "\n",
        "# Evaluate the model using Mean Squared Error (MSE)\n",
        "mse = mean_squared_error(y_test, y_pred)\n",
        "\n",
        "print(f\"Mean Squared Error of SVR model on California Housing dataset: {mse:.4f}\")\n"
      ],
      "metadata": {
        "colab": {
          "base_uri": "https://localhost:8080/"
        },
        "id": "FQnILS4wgDTK",
        "outputId": "536fadcb-24f4-4366-98de-bd3f4ff39e63"
      },
      "execution_count": 3,
      "outputs": [
        {
          "output_type": "stream",
          "name": "stdout",
          "text": [
            "Mean Squared Error of SVR model on California Housing dataset: 1.3320\n"
          ]
        }
      ]
    },
    {
      "cell_type": "code",
      "source": [
        "#24. Write a Python program to train an SVM Classifier with a Polynomial Kernel and visualize the decision boundary.\n",
        "\n",
        "import numpy as np\n",
        "import matplotlib.pyplot as plt\n",
        "from sklearn import datasets\n",
        "from sklearn.svm import SVC\n",
        "\n",
        "# Load Iris dataset (only two features: sepal length and sepal width)\n",
        "iris = datasets.load_iris()\n",
        "X = iris.data[:, :2]  # first two features\n",
        "y = iris.target\n",
        "\n",
        "# Create and train SVM classifier with polynomial kernel\n",
        "svm_poly = SVC(kernel='poly', degree=3, coef0=1, C=1)\n",
        "svm_poly.fit(X, y)\n",
        "\n",
        "# Create a mesh grid to plot decision boundaries\n",
        "x_min, x_max = X[:, 0].min() - 1, X[:, 0].max() + 1\n",
        "y_min, y_max = X[:, 1].min() - 1, X[:, 1].max() + 1\n",
        "xx, yy = np.meshgrid(np.linspace(x_min, x_max, 500),\n",
        "                     np.linspace(y_min, y_max, 500))\n",
        "\n",
        "# Predict over the grid points\n",
        "Z = svm_poly.predict(np.c_[xx.ravel(), yy.ravel()])\n",
        "Z = Z.reshape(xx.shape)\n",
        "\n",
        "# Plot the decision boundary and points\n",
        "plt.figure(figsize=(10, 6))\n",
        "plt.contourf(xx, yy, Z, alpha=0.3, cmap=plt.cm.Set1)\n",
        "\n",
        "# Plot training points\n",
        "colors = ['red', 'green', 'blue']\n",
        "for i, color in enumerate(colors):\n",
        "    idx = np.where(y == i)\n",
        "    plt.scatter(X[idx, 0], X[idx, 1], c=color, label=iris.target_names[i], edgecolors='k')\n",
        "\n",
        "plt.xlabel('Sepal length')\n",
        "plt.ylabel('Sepal width')\n",
        "plt.title('SVM with Polynomial Kernel (degree=3) - Iris Dataset')\n",
        "plt.legend()\n",
        "plt.show()\n"
      ],
      "metadata": {
        "colab": {
          "base_uri": "https://localhost:8080/",
          "height": 564
        },
        "id": "bvXd2FP4gT6t",
        "outputId": "cf99910e-070a-4410-974b-9cca64395c44"
      },
      "execution_count": 4,
      "outputs": [
        {
          "output_type": "display_data",
          "data": {
            "text/plain": [
              "<Figure size 1000x600 with 1 Axes>"
            ],
            "image/png": "[encoded data removed]"
          },
          "metadata": {}
        }
      ]
    },
    {
      "cell_type": "code",
      "source": [
        "#25. Write a Python program to train a Gaussian Naïve Bayes classifier on the Breast Cancer dataset and evaluate accuracy.\n",
        "\n",
        "import numpy as np\n",
        "from sklearn import datasets\n",
        "from sklearn.model_selection import train_test_split\n",
        "from sklearn.naive_bayes import GaussianNB\n",
        "from sklearn.metrics import accuracy_score\n",
        "\n",
        "# Load the Breast Cancer dataset\n",
        "breast_cancer = datasets.load_breast_cancer()\n",
        "X = breast_cancer.data  # Features\n",
        "y = breast_cancer.target  # Target labels\n",
        "\n",
        "# Split the dataset into training and testing sets (80% train, 20% test)\n",
        "X_train, X_test, y_train, y_test = train_test_split(X, y, test_size=0.2, random_state=42)\n",
        "\n",
        "# Create a Gaussian Naive Bayes classifier\n",
        "gnb_classifier = GaussianNB()\n",
        "\n",
        "# Train the classifier\n",
        "gnb_classifier.fit(X_train, y_train)\n",
        "\n",
        "# Make predictions on the test set\n",
        "y_pred = gnb_classifier.predict(X_test)\n",
        "\n",
        "# Evaluate the accuracy\n",
        "accuracy = accuracy_score(y_test, y_pred)\n",
        "\n",
        "print(f'Accuracy of Gaussian Naive Bayes classifier on Breast Cancer dataset: {accuracy:.2f}')\n",
        "\n"
      ],
      "metadata": {
        "colab": {
          "base_uri": "https://localhost:8080/"
        },
        "id": "FDT-zwscgd5d",
        "outputId": "cebd1f57-d3b9-4396-b1c6-3f1abc6790dc"
      },
      "execution_count": 5,
      "outputs": [
        {
          "output_type": "stream",
          "name": "stdout",
          "text": [
            "Accuracy of Gaussian Naive Bayes classifier on Breast Cancer dataset: 0.97\n"
          ]
        }
      ]
    },
    {
      "cell_type": "code",
      "source": [
        "#26. Write a Python program to train a Multinomial Naïve Bayes classifier for text classification using the 20 Newsgroups dataset.\n",
        "\n",
        "import numpy as np\n",
        "from sklearn.datasets import fetch_20newsgroups\n",
        "from sklearn.feature_extraction.text import CountVectorizer\n",
        "from sklearn.model_selection import train_test_split\n",
        "from sklearn.naive_bayes import MultinomialNB\n",
        "from sklearn.metrics import accuracy_score, classification_report\n",
        "\n",
        "# Load the 20 Newsgroups dataset\n",
        "newsgroups = fetch_20newsgroups(subset='all', remove=('headers', 'footers', 'quotes'))\n",
        "X = newsgroups.data  # Text data\n",
        "y = newsgroups.target  # Target labels\n",
        "\n",
        "# Convert text data to bag-of-words representation\n",
        "vectorizer = CountVectorizer()\n",
        "X_vectorized = vectorizer.fit_transform(X)\n",
        "\n",
        "# Split the dataset into training and testing sets (80% train, 20% test)\n",
        "X_train, X_test, y_train, y_test = train_test_split(X_vectorized, y, test_size=0.2, random_state=42)\n",
        "\n",
        "# Create a Multinomial Naive Bayes classifier\n",
        "mnb_classifier = MultinomialNB()\n",
        "\n",
        "# Train the classifier\n",
        "mnb_classifier.fit(X_train, y_train)\n",
        "\n",
        "# Make predictions on the test set\n",
        "y_pred = mnb_classifier.predict(X_test)\n",
        "\n",
        "# Evaluate the accuracy\n",
        "accuracy = accuracy_score(y_test, y_pred)\n",
        "print(f'Accuracy of Multinomial Naive Bayes classifier on 20 Newsgroups dataset: {accuracy:.2f}')\n",
        "\n",
        "# Print classification report\n",
        "print(\"\\nClassification Report:\")\n",
        "print(classification_report(y_test, y_pred, target_names=newsgroups.target_names))\n"
      ],
      "metadata": {
        "colab": {
          "base_uri": "https://localhost:8080/"
        },
        "id": "ICYTKMkYgpCw",
        "outputId": "56b6837c-e4b7-4e7d-b9f9-c8ab9b2991f1"
      },
      "execution_count": 6,
      "outputs": [
        {
          "output_type": "stream",
          "name": "stdout",
          "text": [
            "Accuracy of Multinomial Naive Bayes classifier on 20 Newsgroups dataset: 0.60\n",
            "\n",
            "Classification Report:\n",
            "                          precision    recall  f1-score   support\n",
            "\n",
            "             alt.atheism       0.60      0.18      0.28       151\n",
            "           comp.graphics       0.47      0.76      0.58       202\n",
            " comp.os.ms-windows.misc       0.80      0.04      0.08       195\n",
            "comp.sys.ibm.pc.hardware       0.53      0.71      0.61       183\n",
            "   comp.sys.mac.hardware       0.87      0.58      0.69       205\n",
            "          comp.windows.x       0.68      0.80      0.73       215\n",
            "            misc.forsale       0.87      0.52      0.65       193\n",
            "               rec.autos       0.88      0.63      0.73       196\n",
            "         rec.motorcycles       0.47      0.54      0.50       168\n",
            "      rec.sport.baseball       0.99      0.65      0.78       211\n",
            "        rec.sport.hockey       0.92      0.79      0.85       198\n",
            "               sci.crypt       0.57      0.77      0.66       201\n",
            "         sci.electronics       0.85      0.47      0.60       202\n",
            "                 sci.med       0.83      0.75      0.79       194\n",
            "               sci.space       0.76      0.67      0.71       189\n",
            "  soc.religion.christian       0.34      0.95      0.50       202\n",
            "      talk.politics.guns       0.80      0.48      0.60       188\n",
            "   talk.politics.mideast       0.47      0.81      0.59       182\n",
            "      talk.politics.misc       0.39      0.67      0.49       159\n",
            "      talk.religion.misc       0.67      0.04      0.08       136\n",
            "\n",
            "                accuracy                           0.60      3770\n",
            "               macro avg       0.69      0.59      0.58      3770\n",
            "            weighted avg       0.70      0.60      0.59      3770\n",
            "\n"
          ]
        }
      ]
    },
    {
      "cell_type": "code",
      "source": [
        "#27. Write a Python program to train an SVM Classifier with different C values and compare the decision boundaries visually.\n",
        "import numpy as np\n",
        "import matplotlib.pyplot as plt\n",
        "from sklearn import datasets\n",
        "from sklearn.svm import SVC\n",
        "from sklearn.model_selection import train_test_split\n",
        "\n",
        "# Load the Iris dataset (only the first two features for visualization)\n",
        "iris = datasets.load_iris()\n",
        "X = iris.data[:, :2]  # First two features\n",
        "y = iris.target\n",
        "\n",
        "# We'll only use two classes for clear binary classification\n",
        "X = X[y != 2]\n",
        "y = y[y != 2]\n",
        "\n",
        "# Different C values to try\n",
        "C_values = [0.1, 1, 10]\n",
        "\n",
        "# Create mesh grid for plotting\n",
        "x_min, x_max = X[:, 0].min() - 1, X[:, 0].max() + 1\n",
        "y_min, y_max = X[:, 1].min() - 1, X[:, 1].max() + 1\n",
        "xx, yy = np.meshgrid(np.linspace(x_min, x_max, 500),\n",
        "                     np.linspace(y_min, y_max, 500))\n",
        "\n",
        "plt.figure(figsize=(18, 5))\n",
        "\n",
        "for i, C in enumerate(C_values, 1):\n",
        "    # Train SVM with linear kernel and given C\n",
        "    svm = SVC(kernel='linear', C=C)\n",
        "    svm.fit(X, y)\n",
        "\n",
        "    # Predict on grid\n",
        "    Z = svm.predict(np.c_[xx.ravel(), yy.ravel()])\n",
        "    Z = Z.reshape(xx.shape)\n",
        "\n",
        "    # Plot decision boundary and points\n",
        "    plt.subplot(1, len(C_values), i)\n",
        "    plt.contourf(xx, yy, Z, alpha=0.3, cmap=plt.cm.coolwarm)\n",
        "    plt.scatter(X[:, 0], X[:, 1], c=y, s=30, edgecolors='k', cmap=plt.cm.coolwarm)\n",
        "    plt.title(f'SVM Decision Boundary (C={C})')\n",
        "    plt.xlabel('Feature 1')\n",
        "    plt.ylabel('Feature 2')\n",
        "\n",
        "plt.tight_layout()\n",
        "plt.show()\n"
      ],
      "metadata": {
        "colab": {
          "base_uri": "https://localhost:8080/",
          "height": 388
        },
        "id": "y1DCRytthCCY",
        "outputId": "b437a049-9853-4bd0-d9f4-c82c89fea140"
      },
      "execution_count": 8,
      "outputs": [
        {
          "output_type": "display_data",
          "data": {
            "text/plain": [
              "<Figure size 1800x500 with 3 Axes>"
            ],
            "image/png": "[encoded data removed]"
          },
          "metadata": {}
        }
      ]
    },
    {
      "cell_type": "code",
      "source": [
        "#28. Write a Python program to train a Bernoulli Naïve Bayes classifier for binary classification on a dataset with binary features.\n",
        "import numpy as np\n",
        "from sklearn.datasets import make_classification\n",
        "from sklearn.model_selection import train_test_split\n",
        "from sklearn.naive_bayes import BernoulliNB\n",
        "from sklearn.metrics import accuracy_score, classification_report\n",
        "\n",
        "# Create a synthetic binary classification dataset with binary features\n",
        "X, y = make_classification(n_samples=1000, n_features=10, n_informative=5, n_redundant=0,\n",
        "                           n_clusters_per_class=1, random_state=42, n_classes=2)\n",
        "\n",
        "# Convert features to binary (0 or 1)\n",
        "X = (X > 0).astype(int)\n",
        "\n",
        "# Split the dataset into training and testing sets (80% train, 20% test)\n",
        "X_train, X_test, y_train, y_test = train_test_split(X, y, test_size=0.2, random_state=42)\n",
        "\n",
        "# Create a Bernoulli Naive Bayes classifier\n",
        "bnb_classifier = BernoulliNB()\n",
        "\n",
        "# Train the classifier\n",
        "bnb_classifier.fit(X_train, y_train)\n",
        "\n",
        "# Make predictions on the test set\n",
        "y_pred = bnb_classifier.predict(X_test)\n",
        "\n",
        "# Evaluate the accuracy\n",
        "accuracy = accuracy_score(y_test, y_pred)\n",
        "print(f'Accuracy of Bernoulli Naive Bayes classifier: {accuracy:.2f}')\n",
        "\n",
        "# Print classification report\n",
        "print(\"\\nClassification Report:\")\n",
        "print(classification_report(y_test, y_pred))\n"
      ],
      "metadata": {
        "colab": {
          "base_uri": "https://localhost:8080/"
        },
        "id": "be3yoWKHhheE",
        "outputId": "f9e2ac2d-0067-4f53-99a5-9837ea944a9a"
      },
      "execution_count": 9,
      "outputs": [
        {
          "output_type": "stream",
          "name": "stdout",
          "text": [
            "Accuracy of Bernoulli Naive Bayes classifier: 0.92\n",
            "\n",
            "Classification Report:\n",
            "              precision    recall  f1-score   support\n",
            "\n",
            "           0       0.90      0.94      0.92       104\n",
            "           1       0.93      0.89      0.91        96\n",
            "\n",
            "    accuracy                           0.92       200\n",
            "   macro avg       0.92      0.91      0.91       200\n",
            "weighted avg       0.92      0.92      0.91       200\n",
            "\n"
          ]
        }
      ]
    },
    {
      "cell_type": "code",
      "source": [
        "#29. Write a Python program to apply feature scaling before training an SVM model and compare results with unscaled data.\n",
        "from sklearn import datasets\n",
        "from sklearn.svm import SVC\n",
        "from sklearn.model_selection import train_test_split\n",
        "from sklearn.preprocessing import StandardScaler\n",
        "from sklearn.metrics import accuracy_score\n",
        "\n",
        "# Load Iris dataset\n",
        "iris = datasets.load_iris()\n",
        "X = iris.data\n",
        "y = iris.target\n",
        "\n",
        "# Split into train/test sets\n",
        "X_train, X_test, y_train, y_test = train_test_split(X, y, test_size=0.2, random_state=42)\n",
        "\n",
        "# Train and evaluate SVM on unscaled data\n",
        "svm_unscaled = SVC(kernel='rbf')\n",
        "svm_unscaled.fit(X_train, y_train)\n",
        "y_pred_unscaled = svm_unscaled.predict(X_test)\n",
        "accuracy_unscaled = accuracy_score(y_test, y_pred_unscaled)\n",
        "\n",
        "# Scale the features\n",
        "scaler = StandardScaler()\n",
        "X_train_scaled = scaler.fit_transform(X_train)\n",
        "X_test_scaled = scaler.transform(X_test)\n",
        "\n",
        "# Train and evaluate SVM on scaled data\n",
        "svm_scaled = SVC(kernel='rbf')\n",
        "svm_scaled.fit(X_train_scaled, y_train)\n",
        "y_pred_scaled = svm_scaled.predict(X_test_scaled)\n",
        "accuracy_scaled = accuracy_score(y_test, y_pred_scaled)\n",
        "\n",
        "print(f\"Accuracy with unscaled data: {accuracy_unscaled:.2f}\")\n",
        "print(f\"Accuracy with scaled data: {accuracy_scaled:.2f}\")\n"
      ],
      "metadata": {
        "colab": {
          "base_uri": "https://localhost:8080/"
        },
        "id": "09mF6ajWh65c",
        "outputId": "6a97bc13-91fc-432c-acc8-27ec1e3e9317"
      },
      "execution_count": 10,
      "outputs": [
        {
          "output_type": "stream",
          "name": "stdout",
          "text": [
            "Accuracy with unscaled data: 1.00\n",
            "Accuracy with scaled data: 1.00\n"
          ]
        }
      ]
    },
    {
      "cell_type": "code",
      "source": [
        "#30. Write a Python program to train a Gaussian Naïve Bayes model and compare the predictions before and after Laplace Smoothing.\n",
        "\n",
        "import numpy as np\n",
        "from sklearn import datasets\n",
        "from sklearn.model_selection import train_test_split\n",
        "from sklearn.naive_bayes import GaussianNB\n",
        "from sklearn.metrics import accuracy_score, classification_report\n",
        "\n",
        "# Load the Iris dataset\n",
        "iris = datasets.load_iris()\n",
        "X = iris.data  # Features\n",
        "y = iris.target  # Target labels\n",
        "\n",
        "# Split the dataset into training and testing sets (80% train, 20% test)\n",
        "X_train, X_test, y_train, y_test = train_test_split(X, y, test_size=0.2, random_state=42)\n",
        "\n",
        "# Create and train Gaussian Naive Bayes classifier without Laplace smoothing\n",
        "gnb_no_smoothing = GaussianNB(var_smoothing=1e-9)  # Very small variance smoothing\n",
        "gnb_no_smoothing.fit(X_train, y_train)\n",
        "\n",
        "# Make predictions without Laplace smoothing\n",
        "y_pred_no_smoothing = gnb_no_smoothing.predict(X_test)\n",
        "\n",
        "# Evaluate accuracy without Laplace smoothing\n",
        "accuracy_no_smoothing = accuracy_score(y_test, y_pred_no_smoothing)\n",
        "\n",
        "# Create and train Gaussian Naive Bayes classifier with Laplace smoothing\n",
        "# In GaussianNB, Laplace smoothing is applied by adjusting the variance\n",
        "gnb_with_smoothing = GaussianNB(var_smoothing=1.0)  # Default value for Laplace smoothing\n",
        "gnb_with_smoothing.fit(X_train, y_train)\n",
        "\n",
        "# Make predictions with Laplace smoothing\n",
        "y_pred_with_smoothing = gnb_with_smoothing.predict(X_test)\n",
        "\n",
        "# Evaluate accuracy with Laplace smoothing\n",
        "accuracy_with_smoothing = accuracy_score(y_test, y_pred_with_smoothing)\n",
        "\n",
        "# Print results\n",
        "print(f\"Accuracy without Laplace smoothing: {accuracy_no_smoothing:.2f}\")\n",
        "print(f\"Accuracy with Laplace smoothing: {accuracy_with_smoothing:.2f}\")\n",
        "\n",
        "# Print classification reports\n",
        "print(\"\\nClassification Report without Laplace smoothing:\")\n",
        "print(classification_report(y_test, y_pred_no_smoothing))\n",
        "\n",
        "print(\"\\nClassification Report with Laplace smoothing:\")\n",
        "print(classification_report(y_test, y_pred_with_smoothing))\n"
      ],
      "metadata": {
        "colab": {
          "base_uri": "https://localhost:8080/"
        },
        "id": "BiDMFHiciYCx",
        "outputId": "dd7b63a9-93a4-4c79-cadb-a1013516d85f"
      },
      "execution_count": 11,
      "outputs": [
        {
          "output_type": "stream",
          "name": "stdout",
          "text": [
            "Accuracy without Laplace smoothing: 1.00\n",
            "Accuracy with Laplace smoothing: 0.97\n",
            "\n",
            "Classification Report without Laplace smoothing:\n",
            "              precision    recall  f1-score   support\n",
            "\n",
            "           0       1.00      1.00      1.00        10\n",
            "           1       1.00      1.00      1.00         9\n",
            "           2       1.00      1.00      1.00        11\n",
            "\n",
            "    accuracy                           1.00        30\n",
            "   macro avg       1.00      1.00      1.00        30\n",
            "weighted avg       1.00      1.00      1.00        30\n",
            "\n",
            "\n",
            "Classification Report with Laplace smoothing:\n",
            "              precision    recall  f1-score   support\n",
            "\n",
            "           0       1.00      1.00      1.00        10\n",
            "           1       0.90      1.00      0.95         9\n",
            "           2       1.00      0.91      0.95        11\n",
            "\n",
            "    accuracy                           0.97        30\n",
            "   macro avg       0.97      0.97      0.97        30\n",
            "weighted avg       0.97      0.97      0.97        30\n",
            "\n"
          ]
        }
      ]
    },
    {
      "cell_type": "code",
      "source": [
        "#31. Write a Python program to train an SVM Classifier and use GridSearchCV to tune the hyperparameters (C, gamma, kernel).\n",
        "\n",
        "from sklearn import datasets\n",
        "from sklearn.svm import SVC\n",
        "from sklearn.model_selection import GridSearchCV, train_test_split\n",
        "from sklearn.metrics import accuracy_score\n",
        "\n",
        "# Load Iris dataset\n",
        "iris = datasets.load_iris()\n",
        "X = iris.data\n",
        "y = iris.target\n",
        "\n",
        "# Split into train and test sets (80% train, 20% test)\n",
        "X_train, X_test, y_train, y_test = train_test_split(X, y, test_size=0.2, random_state=42)\n",
        "\n",
        "# Define the parameter grid to search\n",
        "param_grid = {\n",
        "    'C': [0.1, 1, 10, 100],\n",
        "    'gamma': ['scale', 'auto', 0.01, 0.1, 1],\n",
        "    'kernel': ['linear', 'rbf', 'poly']\n",
        "}\n",
        "\n",
        "# Create a base SVM classifier\n",
        "svm = SVC()\n",
        "\n",
        "# Create GridSearchCV object with 5-fold cross-validation\n",
        "grid_search = GridSearchCV(svm, param_grid, cv=5, verbose=1, n_jobs=-1)\n",
        "\n",
        "# Fit GridSearchCV on training data\n",
        "grid_search.fit(X_train, y_train)\n",
        "\n",
        "# Print best parameters and best score\n",
        "print(\"Best hyperparameters found:\")\n",
        "print(grid_search.best_params_)\n",
        "print(f\"Best cross-validation accuracy: {grid_search.best_score_:.2f}\")\n",
        "\n",
        "# Evaluate the best model on the test set\n",
        "best_model = grid_search.best_estimator_\n",
        "y_pred = best_model.predict(X_test)\n",
        "test_accuracy = accuracy_score(y_test, y_pred)\n",
        "print(f\"Test set accuracy with best model: {test_accuracy:.2f}\")\n"
      ],
      "metadata": {
        "colab": {
          "base_uri": "https://localhost:8080/"
        },
        "id": "ScvjXP5oimxF",
        "outputId": "7e8fb6d8-8419-439f-c58f-268dfcf20c9f"
      },
      "execution_count": 12,
      "outputs": [
        {
          "output_type": "stream",
          "name": "stdout",
          "text": [
            "Fitting 5 folds for each of 60 candidates, totalling 300 fits\n",
            "Best hyperparameters found:\n",
            "{'C': 0.1, 'gamma': 0.1, 'kernel': 'poly'}\n",
            "Best cross-validation accuracy: 0.96\n",
            "Test set accuracy with best model: 1.00\n"
          ]
        }
      ]
    },
    {
      "cell_type": "code",
      "source": [
        "#32. Write a Python program to train an SVM Classifier on an imbalanced dataset and apply class weighting and check it improve accuracy.\n",
        "\n",
        "from sklearn.datasets import make_classification\n",
        "from sklearn.svm import SVC\n",
        "from sklearn.model_selection import train_test_split\n",
        "from sklearn.metrics import classification_report, accuracy_score\n",
        "\n",
        "# Generate an imbalanced dataset\n",
        "X, y = make_classification(n_samples=1000, n_features=20, n_informative=2,\n",
        "                           n_redundant=10, n_clusters_per_class=1,\n",
        "                           weights=[0.9, 0.1], flip_y=0, random_state=42)\n",
        "\n",
        "# Split into train and test sets\n",
        "X_train, X_test, y_train, y_test = train_test_split(X, y, test_size=0.2, random_state=42)\n",
        "\n",
        "# Train SVM without class weights\n",
        "svm_no_weight = SVC(kernel='rbf', random_state=42)\n",
        "svm_no_weight.fit(X_train, y_train)\n",
        "y_pred_no_weight = svm_no_weight.predict(X_test)\n",
        "acc_no_weight = accuracy_score(y_test, y_pred_no_weight)\n",
        "\n",
        "# Train SVM with class weights \"balanced\"\n",
        "svm_weighted = SVC(kernel='rbf', class_weight='balanced', random_state=42)\n",
        "svm_weighted.fit(X_train, y_train)\n",
        "y_pred_weighted = svm_weighted.predict(X_test)\n",
        "acc_weighted = accuracy_score(y_test, y_pred_weighted)\n",
        "\n",
        "print(f\"Accuracy without class weighting: {acc_no_weight:.2f}\")\n",
        "print(f\"Accuracy with class weighting: {acc_weighted:.2f}\")\n",
        "\n",
        "print(\"\\nClassification Report without class weighting:\")\n",
        "print(classification_report(y_test, y_pred_no_weight))\n",
        "\n",
        "print(\"Classification Report with class weighting:\")\n",
        "print(classification_report(y_test, y_pred_weighted))\n"
      ],
      "metadata": {
        "colab": {
          "base_uri": "https://localhost:8080/"
        },
        "id": "cekYktK4jnZh",
        "outputId": "93c12917-378f-4e27-db4d-7e9f0eecb30d"
      },
      "execution_count": 13,
      "outputs": [
        {
          "output_type": "stream",
          "name": "stdout",
          "text": [
            "Accuracy without class weighting: 1.00\n",
            "Accuracy with class weighting: 0.98\n",
            "\n",
            "Classification Report without class weighting:\n",
            "              precision    recall  f1-score   support\n",
            "\n",
            "           0       1.00      1.00      1.00       186\n",
            "           1       1.00      1.00      1.00        14\n",
            "\n",
            "    accuracy                           1.00       200\n",
            "   macro avg       1.00      1.00      1.00       200\n",
            "weighted avg       1.00      1.00      1.00       200\n",
            "\n",
            "Classification Report with class weighting:\n",
            "              precision    recall  f1-score   support\n",
            "\n",
            "           0       1.00      0.98      0.99       186\n",
            "           1       0.78      1.00      0.88        14\n",
            "\n",
            "    accuracy                           0.98       200\n",
            "   macro avg       0.89      0.99      0.93       200\n",
            "weighted avg       0.98      0.98      0.98       200\n",
            "\n"
          ]
        }
      ]
    },
    {
      "cell_type": "code",
      "source": [
        "#33. Write a Python program to implement a Naïve Bayes classifier for spam detection using email data.\n",
        "\n",
        "import pandas as pd\n",
        "from sklearn.model_selection import train_test_split\n",
        "from sklearn.feature_extraction.text import CountVectorizer\n",
        "from sklearn.naive_bayes import MultinomialNB\n",
        "from sklearn.metrics import accuracy_score, classification_report\n",
        "\n",
        "# Load the SMS Spam Collection dataset from a local file\n",
        "# Make sure to replace 'path_to_your_file' with the actual path to the downloaded file\n",
        "data = pd.read_csv('SMSSpamCollection', sep='\\t', header=None, names=['label', 'message'])\n",
        "\n",
        "# Convert labels to binary (1 for spam, 0 for ham)\n",
        "data['label'] = data['label'].map({'ham': 0, 'spam': 1})\n",
        "\n",
        "# Split the dataset into training and testing sets\n",
        "X_train, X_test, y_train, y_test = train_test_split(data['message'], data['label'], test_size=0.2, random_state=42)\n",
        "\n",
        "# Convert text data to feature vectors\n",
        "vectorizer = CountVectorizer()\n",
        "X_train_counts = vectorizer.fit_transform(X_train)\n",
        "X_test_counts = vectorizer.transform(X_test)\n",
        "\n",
        "# Create and train the Naïve Bayes classifier\n",
        "nb_classifier = MultinomialNB()\n",
        "nb_classifier.fit(X_train_counts, y_train)\n",
        "\n",
        "# Make predictions on the test set\n",
        "y_pred = nb_classifier.predict(X_test_counts)\n",
        "\n",
        "# Evaluate the model\n",
        "accuracy = accuracy_score(y_test, y_pred)\n",
        "print(f\"Accuracy of Naïve Bayes classifier: {accuracy:.2f}\")\n",
        "\n",
        "# Print classification report\n",
        "print(\"\\nClassification Report:\")\n",
        "print(classification_report(y_test, y_pred))\n"
      ],
      "metadata": {
        "colab": {
          "base_uri": "https://localhost:8080/"
        },
        "id": "9KkAM8A6jwIR",
        "outputId": "ae1b187a-2635-45c4-ee6e-cd3db020842e"
      },
      "execution_count": 16,
      "outputs": [
        {
          "output_type": "stream",
          "name": "stdout",
          "text": [
            "Accuracy of Naïve Bayes classifier: 0.99\n",
            "\n",
            "Classification Report:\n",
            "              precision    recall  f1-score   support\n",
            "\n",
            "           0       0.99      1.00      1.00       966\n",
            "           1       1.00      0.94      0.97       149\n",
            "\n",
            "    accuracy                           0.99      1115\n",
            "   macro avg       1.00      0.97      0.98      1115\n",
            "weighted avg       0.99      0.99      0.99      1115\n",
            "\n"
          ]
        }
      ]
    },
    {
      "cell_type": "code",
      "source": [
        "#34. Write a Python program to train an SVM Classifier and a Naïve Bayes Classifier on the same dataset and compare their accuracy.\n",
        "\n",
        "from sklearn import datasets\n",
        "from sklearn.model_selection import train_test_split\n",
        "from sklearn.svm import SVC\n",
        "from sklearn.naive_bayes import GaussianNB\n",
        "from sklearn.metrics import accuracy_score\n",
        "\n",
        "# Load the Iris dataset\n",
        "iris = datasets.load_iris()\n",
        "X = iris.data\n",
        "y = iris.target\n",
        "\n",
        "# Split the dataset into training and testing sets (80% train, 20% test)\n",
        "X_train, X_test, y_train, y_test = train_test_split(X, y, test_size=0.2, random_state=42)\n",
        "\n",
        "# Train an SVM classifier\n",
        "svm_classifier = SVC()\n",
        "svm_classifier.fit(X_train, y_train)\n",
        "y_pred_svm = svm_classifier.predict(X_test)\n",
        "accuracy_svm = accuracy_score(y_test, y_pred_svm)\n",
        "\n",
        "# Train a Naive Bayes classifier\n",
        "nb_classifier = GaussianNB()\n",
        "nb_classifier.fit(X_train, y_train)\n",
        "y_pred_nb = nb_classifier.predict(X_test)\n",
        "accuracy_nb = accuracy_score(y_test, y_pred_nb)\n",
        "\n",
        "# Print the accuracy of both classifiers\n",
        "print(f\"SVM classifier accuracy: {accuracy_svm:.2f}\")\n",
        "print(f\"Naive Bayes classifier accuracy: {accuracy_nb:.2f}\")\n"
      ],
      "metadata": {
        "colab": {
          "base_uri": "https://localhost:8080/"
        },
        "id": "7ZDZnLqIj-YQ",
        "outputId": "4fc2f502-6744-42e2-bba2-6aa17030b64b"
      },
      "execution_count": 17,
      "outputs": [
        {
          "output_type": "stream",
          "name": "stdout",
          "text": [
            "SVM classifier accuracy: 1.00\n",
            "Naive Bayes classifier accuracy: 1.00\n"
          ]
        }
      ]
    },
    {
      "cell_type": "code",
      "source": [
        "#35. Write a Python program to perform feature selection before training a Naïve Bayes classifier and compare results.\n",
        "\n",
        "import numpy as np\n",
        "from sklearn import datasets\n",
        "from sklearn.feature_selection import SelectKBest, chi2\n",
        "from sklearn.model_selection import train_test_split\n",
        "from sklearn.naive_bayes import GaussianNB\n",
        "from sklearn.metrics import accuracy_score\n",
        "\n",
        "# Load the Iris dataset\n",
        "iris = datasets.load_iris()\n",
        "X = iris.data\n",
        "y = iris.target\n",
        "\n",
        "# Split the dataset into training and testing sets (80% train, 20% test)\n",
        "X_train, X_test, y_train, y_test = train_test_split(X, y, test_size=0.2, random_state=42)\n",
        "\n",
        "# Train Naive Bayes without feature selection\n",
        "nb = GaussianNB()\n",
        "nb.fit(X_train, y_train)\n",
        "y_pred = nb.predict(X_test)\n",
        "accuracy_without_fs = accuracy_score(y_test, y_pred)\n",
        "\n",
        "# Perform feature selection using SelectKBest with chi-squared\n",
        "selector = SelectKBest(score_func=chi2, k=2)  # Select top 2 features\n",
        "X_train_selected = selector.fit_transform(X_train, y_train)\n",
        "X_test_selected = selector.transform(X_test)\n",
        "\n",
        "# Train Naive Bayes with selected features\n",
        "nb_fs = GaussianNB()\n",
        "nb_fs.fit(X_train_selected, y_train)\n",
        "y_pred_fs = nb_fs.predict(X_test_selected)\n",
        "accuracy_with_fs = accuracy_score(y_test, y_pred_fs)\n",
        "\n",
        "# Print the results\n",
        "print(f\"Accuracy without feature selection: {accuracy_without_fs:.2f}\")\n",
        "print(f\"Accuracy with feature selection (top 2 features): {accuracy_with_fs:.2f}\")\n",
        "\n",
        "# Display selected feature indices\n",
        "selected_indices = selector.get_support(indices=True)\n",
        "print(f\"Selected feature indices: {selected_indices}\")\n"
      ],
      "metadata": {
        "colab": {
          "base_uri": "https://localhost:8080/"
        },
        "id": "-dZgrmHjkBil",
        "outputId": "b6e89611-dbcb-49a6-8a13-2a3c0eb3bb53"
      },
      "execution_count": 19,
      "outputs": [
        {
          "output_type": "stream",
          "name": "stdout",
          "text": [
            "Accuracy without feature selection: 1.00\n",
            "Accuracy with feature selection (top 2 features): 1.00\n",
            "Selected feature indices: [2 3]\n"
          ]
        }
      ]
    },
    {
      "cell_type": "code",
      "source": [
        "#36. Write a Python program to train an SVM Classifier using One-vs-Rest (OvR) and One-vs-One (OvO) strategies on the Wine dataset and compare their accuracy.\n",
        "\n",
        "from sklearn import datasets\n",
        "from sklearn.svm import SVC\n",
        "from sklearn.multiclass import OneVsRestClassifier, OneVsOneClassifier\n",
        "from sklearn.model_selection import train_test_split\n",
        "from sklearn.metrics import accuracy_score\n",
        "\n",
        "# Load Wine dataset\n",
        "wine = datasets.load_wine()\n",
        "X = wine.data\n",
        "y = wine.target\n",
        "\n",
        "# Split data into training and testing sets (80% train, 20% test)\n",
        "X_train, X_test, y_train, y_test = train_test_split(X, y, test_size=0.2, random_state=42)\n",
        "\n",
        "# Create SVM classifier\n",
        "svm = SVC(kernel='linear', random_state=42)\n",
        "\n",
        "# One-vs-Rest strategy\n",
        "ovr_classifier = OneVsRestClassifier(svm)\n",
        "ovr_classifier.fit(X_train, y_train)\n",
        "y_pred_ovr = ovr_classifier.predict(X_test)\n",
        "accuracy_ovr = accuracy_score(y_test, y_pred_ovr)\n",
        "\n",
        "# One-vs-One strategy\n",
        "ovo_classifier = OneVsOneClassifier(svm)\n",
        "ovo_classifier.fit(X_train, y_train)\n",
        "y_pred_ovo = ovo_classifier.predict(X_test)\n",
        "accuracy_ovo = accuracy_score(y_test, y_pred_ovo)\n",
        "\n",
        "print(f\"Accuracy with One-vs-Rest (OvR) strategy: {accuracy_ovr:.2f}\")\n",
        "print(f\"Accuracy with One-vs-One (OvO) strategy: {accuracy_ovo:.2f}\")\n"
      ],
      "metadata": {
        "colab": {
          "base_uri": "https://localhost:8080/"
        },
        "id": "B6x2e5O8kIGY",
        "outputId": "6e181fbf-05cd-4bcc-db15-cea8efe1fa8a"
      },
      "execution_count": 20,
      "outputs": [
        {
          "output_type": "stream",
          "name": "stdout",
          "text": [
            "Accuracy with One-vs-Rest (OvR) strategy: 1.00\n",
            "Accuracy with One-vs-One (OvO) strategy: 1.00\n"
          ]
        }
      ]
    },
    {
      "cell_type": "code",
      "source": [
        "#37. Write a Python program to train an SVM Classifier using Linear, Polynomial, and RBF kernels on the Breast Cancer dataset and compare their accuracy.\n",
        "\n",
        "from sklearn import datasets\n",
        "from sklearn.svm import SVC\n",
        "from sklearn.model_selection import train_test_split\n",
        "from sklearn.metrics import accuracy_score\n",
        "\n",
        "# Load the Breast Cancer dataset\n",
        "cancer = datasets.load_breast_cancer()\n",
        "X = cancer.data\n",
        "y = cancer.target\n",
        "\n",
        "# Split data into training and test sets (80% train, 20% test)\n",
        "X_train, X_test, y_train, y_test = train_test_split(X, y, test_size=0.2, random_state=42)\n",
        "\n",
        "# Initialize classifiers with different kernels\n",
        "svm_linear = SVC(kernel='linear', random_state=42)\n",
        "svm_poly = SVC(kernel='poly', degree=3, random_state=42)\n",
        "svm_rbf = SVC(kernel='rbf', random_state=42)\n",
        "\n",
        "# Train classifiers\n",
        "svm_linear.fit(X_train, y_train)\n",
        "svm_poly.fit(X_train, y_train)\n",
        "svm_rbf.fit(X_train, y_train)\n",
        "\n",
        "# Predict test data\n",
        "y_pred_linear = svm_linear.predict(X_test)\n",
        "y_pred_poly = svm_poly.predict(X_test)\n",
        "y_pred_rbf = svm_rbf.predict(X_test)\n",
        "\n",
        "# Calculate accuracies\n",
        "accuracy_linear = accuracy_score(y_test, y_pred_linear)\n",
        "accuracy_poly = accuracy_score(y_test, y_pred_poly)\n",
        "accuracy_rbf = accuracy_score(y_test, y_pred_rbf)\n",
        "\n",
        "# Print results\n",
        "print(f\"Accuracy with Linear kernel: {accuracy_linear:.2f}\")\n",
        "print(f\"Accuracy with Polynomial kernel (degree 3): {accuracy_poly:.2f}\")\n",
        "print(f\"Accuracy with RBF kernel: {accuracy_rbf:.2f}\")\n"
      ],
      "metadata": {
        "colab": {
          "base_uri": "https://localhost:8080/"
        },
        "id": "oZ_Rs6VWkLf3",
        "outputId": "45d66ce3-1980-4bd5-912d-45c4d0dc28b1"
      },
      "execution_count": 21,
      "outputs": [
        {
          "output_type": "stream",
          "name": "stdout",
          "text": [
            "Accuracy with Linear kernel: 0.96\n",
            "Accuracy with Polynomial kernel (degree 3): 0.95\n",
            "Accuracy with RBF kernel: 0.95\n"
          ]
        }
      ]
    },
    {
      "cell_type": "code",
      "source": [
        "#38. Write a Python program to train an SVM Classifier using Stratified K-Fold Cross-Validation and compute the average accuracy.\n",
        "\n",
        "from sklearn import datasets\n",
        "from sklearn.svm import SVC\n",
        "from sklearn.model_selection import StratifiedKFold\n",
        "from sklearn.metrics import accuracy_score\n",
        "import numpy as np\n",
        "\n",
        "# Load Iris dataset\n",
        "iris = datasets.load_iris()\n",
        "X = iris.data\n",
        "y = iris.target\n",
        "\n",
        "# Initialize Stratified K-Fold cross-validator with 5 folds\n",
        "skf = StratifiedKFold(n_splits=5, shuffle=True, random_state=42)\n",
        "\n",
        "accuracies = []\n",
        "\n",
        "# Iterate over each fold\n",
        "for train_index, test_index in skf.split(X, y):\n",
        "    X_train, X_test = X[train_index], X[test_index]\n",
        "    y_train, y_test = y[train_index], y[test_index]\n",
        "\n",
        "    # Initialize and train the SVM classifier\n",
        "    svm = SVC(kernel='linear', random_state=42)\n",
        "    svm.fit(X_train, y_train)\n",
        "\n",
        "    # Predict the test set\n",
        "    y_pred = svm.predict(X_test)\n",
        "\n",
        "    # Calculate accuracy and store it\n",
        "    acc = accuracy_score(y_test, y_pred)\n",
        "    accuracies.append(acc)\n",
        "\n",
        "# Compute the average accuracy across all folds\n",
        "average_accuracy = np.mean(accuracies)\n",
        "\n",
        "print(f\"Accuracies for each fold: {accuracies}\")\n",
        "print(f\"Average accuracy: {average_accuracy:.2f}\")\n"
      ],
      "metadata": {
        "colab": {
          "base_uri": "https://localhost:8080/"
        },
        "id": "RkprEvd7kOru",
        "outputId": "e75defc4-1d8a-4d8e-fd8b-7b4f57bd9996"
      },
      "execution_count": 22,
      "outputs": [
        {
          "output_type": "stream",
          "name": "stdout",
          "text": [
            "Accuracies for each fold: [1.0, 1.0, 0.9333333333333333, 1.0, 1.0]\n",
            "Average accuracy: 0.99\n"
          ]
        }
      ]
    },
    {
      "cell_type": "code",
      "source": [
        "#39. Write a Python program to train a Naïve Bayes classifier using different prior probabilities and compare performance.\n",
        "\n",
        "import numpy as np\n",
        "from sklearn import datasets\n",
        "from sklearn.model_selection import train_test_split\n",
        "from sklearn.naive_bayes import GaussianNB\n",
        "from sklearn.metrics import accuracy_score\n",
        "\n",
        "# Load the Iris dataset\n",
        "iris = datasets.load_iris()\n",
        "X = iris.data\n",
        "y = iris.target\n",
        "\n",
        "# Split the dataset into training and testing sets (80% train, 20% test)\n",
        "X_train, X_test, y_train, y_test = train_test_split(X, y, test_size=0.2, random_state=42)\n",
        "\n",
        "# Define different prior probabilities\n",
        "priors_list = [\n",
        "    [0.33, 0.33, 0.34],  # Uniform prior\n",
        "    [0.5, 0.3, 0.2],     # Custom prior\n",
        "    [0.1, 0.1, 0.8]      # Skewed prior\n",
        "]\n",
        "\n",
        "# Store accuracies for each prior\n",
        "accuracies = []\n",
        "\n",
        "# Train and evaluate the Naïve Bayes classifier with different priors\n",
        "for priors in priors_list:\n",
        "    # Initialize the Gaussian Naïve Bayes classifier with specified priors\n",
        "    nb_classifier = GaussianNB(priors=priors)\n",
        "\n",
        "    # Fit the model\n",
        "    nb_classifier.fit(X_train, y_train)\n",
        "\n",
        "    # Predict on the test set\n",
        "    y_pred = nb_classifier.predict(X_test)\n",
        "\n",
        "    # Calculate accuracy\n",
        "    accuracy = accuracy_score(y_test, y_pred)\n",
        "    accuracies.append(accuracy)\n",
        "\n",
        "# Print the results\n",
        "for i, priors in enumerate(priors_list):\n",
        "    print(f\"Prior probabilities: {priors} => Accuracy: {accuracies[i]:.2f}\")\n"
      ],
      "metadata": {
        "colab": {
          "base_uri": "https://localhost:8080/"
        },
        "id": "BAtwlMUKkRuH",
        "outputId": "7b7894a8-2e9f-47c4-a3e7-5e1aa3af1ec1"
      },
      "execution_count": 23,
      "outputs": [
        {
          "output_type": "stream",
          "name": "stdout",
          "text": [
            "Prior probabilities: [0.33, 0.33, 0.34] => Accuracy: 1.00\n",
            "Prior probabilities: [0.5, 0.3, 0.2] => Accuracy: 1.00\n",
            "Prior probabilities: [0.1, 0.1, 0.8] => Accuracy: 0.93\n"
          ]
        }
      ]
    },
    {
      "cell_type": "code",
      "source": [
        "#40. Write a Python program to perform Recursive Feature Elimination (RFE) before training an SVM Classifier and compare accuracy.\n",
        "\n",
        "from sklearn import datasets\n",
        "from sklearn.svm import SVC\n",
        "from sklearn.feature_selection import RFE\n",
        "from sklearn.model_selection import train_test_split\n",
        "from sklearn.metrics import accuracy_score\n",
        "\n",
        "# Load the Iris dataset\n",
        "iris = datasets.load_iris()\n",
        "X = iris.data\n",
        "y = iris.target\n",
        "\n",
        "# Split the dataset (80% train, 20% test)\n",
        "X_train, X_test, y_train, y_test = train_test_split(X, y, test_size=0.2, random_state=42)\n",
        "\n",
        "# Train SVM classifier on all features\n",
        "svm_full = SVC(kernel='linear', random_state=42)\n",
        "svm_full.fit(X_train, y_train)\n",
        "y_pred_full = svm_full.predict(X_test)\n",
        "accuracy_full = accuracy_score(y_test, y_pred_full)\n",
        "\n",
        "# Perform Recursive Feature Elimination (RFE) with SVM\n",
        "svm_rfe = SVC(kernel='linear', random_state=42)\n",
        "rfe = RFE(estimator=svm_rfe, n_features_to_select=2)  # Select top 2 features\n",
        "rfe.fit(X_train, y_train)\n",
        "\n",
        "# Transform train and test sets to selected features\n",
        "X_train_rfe = rfe.transform(X_train)\n",
        "X_test_rfe = rfe.transform(X_test)\n",
        "\n",
        "# Train SVM on selected features\n",
        "svm_rfe.fit(X_train_rfe, y_train)\n",
        "y_pred_rfe = svm_rfe.predict(X_test_rfe)\n",
        "accuracy_rfe = accuracy_score(y_test, y_pred_rfe)\n",
        "\n",
        "print(f\"Accuracy with all features: {accuracy_full:.2f}\")\n",
        "print(f\"Accuracy with RFE selected features: {accuracy_rfe:.2f}\")\n",
        "print(f\"Selected feature indices: {rfe.get_support(indices=True)}\")\n"
      ],
      "metadata": {
        "colab": {
          "base_uri": "https://localhost:8080/"
        },
        "id": "nfk_uPPgkV5j",
        "outputId": "0c199614-04b7-4e0a-c486-cf4f2f4e1f6b"
      },
      "execution_count": 24,
      "outputs": [
        {
          "output_type": "stream",
          "name": "stdout",
          "text": [
            "Accuracy with all features: 1.00\n",
            "Accuracy with RFE selected features: 1.00\n",
            "Selected feature indices: [2 3]\n"
          ]
        }
      ]
    },
    {
      "cell_type": "code",
      "source": [
        "#41. Write a Python program to train an SVM Classifier and evaluate its performance using Precision, Recall, and F1-Score instead of accuracy.\n",
        "\n",
        "from sklearn import datasets\n",
        "from sklearn.svm import SVC\n",
        "from sklearn.model_selection import train_test_split\n",
        "from sklearn.metrics import precision_score, recall_score, f1_score, classification_report\n",
        "\n",
        "# Load the Breast Cancer dataset\n",
        "cancer = datasets.load_breast_cancer()\n",
        "X = cancer.data\n",
        "y = cancer.target\n",
        "\n",
        "# Split the dataset into training and testing sets (80% train, 20% test)\n",
        "X_train, X_test, y_train, y_test = train_test_split(X, y, test_size=0.2, random_state=42)\n",
        "\n",
        "# Initialize and train the SVM classifier\n",
        "svm = SVC(kernel='linear', random_state=42)\n",
        "svm.fit(X_train, y_train)\n",
        "\n",
        "# Predict on the test set\n",
        "y_pred = svm.predict(X_test)\n",
        "\n",
        "# Calculate Precision, Recall, and F1-Score\n",
        "precision = precision_score(y_test, y_pred)\n",
        "recall = recall_score(y_test, y_pred)\n",
        "f1 = f1_score(y_test, y_pred)\n",
        "\n",
        "# Print the results\n",
        "print(f\"Precision: {precision:.2f}\")\n",
        "print(f\"Recall: {recall:.2f}\")\n",
        "print(f\"F1-Score: {f1:.2f}\")\n",
        "\n",
        "# Optional: Print a detailed classification report\n",
        "print(\"\\nClassification Report:\")\n",
        "print(classification_report(y_test, y_pred))\n"
      ],
      "metadata": {
        "colab": {
          "base_uri": "https://localhost:8080/"
        },
        "id": "40xUzPDwkZr0",
        "outputId": "4078ae07-70b1-4ff4-b73b-46ade4633228"
      },
      "execution_count": 25,
      "outputs": [
        {
          "output_type": "stream",
          "name": "stdout",
          "text": [
            "Precision: 0.95\n",
            "Recall: 0.99\n",
            "F1-Score: 0.97\n",
            "\n",
            "Classification Report:\n",
            "              precision    recall  f1-score   support\n",
            "\n",
            "           0       0.97      0.91      0.94        43\n",
            "           1       0.95      0.99      0.97        71\n",
            "\n",
            "    accuracy                           0.96       114\n",
            "   macro avg       0.96      0.95      0.95       114\n",
            "weighted avg       0.96      0.96      0.96       114\n",
            "\n"
          ]
        }
      ]
    },
    {
      "cell_type": "code",
      "source": [
        "#42. Write a Python program to train a Naïve Bayes Classifier and evaluate its performance using Log Loss (Cross-Entropy Loss).\n",
        "\n",
        "import numpy as np\n",
        "from sklearn import datasets\n",
        "from sklearn.model_selection import train_test_split\n",
        "from sklearn.naive_bayes import GaussianNB\n",
        "from sklearn.metrics import log_loss\n",
        "\n",
        "# Load the Iris dataset\n",
        "iris = datasets.load_iris()\n",
        "X = iris.data\n",
        "y = iris.target\n",
        "\n",
        "# Split the dataset into training and testing sets (80% train, 20% test)\n",
        "X_train, X_test, y_train, y_test = train_test_split(X, y, test_size=0.2, random_state=42)\n",
        "\n",
        "# Initialize and train the Naïve Bayes classifier\n",
        "nb_classifier = GaussianNB()\n",
        "nb_classifier.fit(X_train, y_train)\n",
        "\n",
        "# Predict probabilities on the test set\n",
        "y_pred_proba = nb_classifier.predict_proba(X_test)\n",
        "\n",
        "# Calculate Log Loss\n",
        "log_loss_value = log_loss(y_test, y_pred_proba)\n",
        "\n",
        "# Print the Log Loss\n",
        "print(f\"Log Loss (Cross-Entropy Loss): {log_loss_value:.4f}\")\n"
      ],
      "metadata": {
        "colab": {
          "base_uri": "https://localhost:8080/"
        },
        "id": "pUaekDttkdVY",
        "outputId": "e19b662a-11a0-46db-dd1d-1fd6696ab252"
      },
      "execution_count": 26,
      "outputs": [
        {
          "output_type": "stream",
          "name": "stdout",
          "text": [
            "Log Loss (Cross-Entropy Loss): 0.0263\n"
          ]
        }
      ]
    },
    {
      "cell_type": "code",
      "source": [
        "#43. Write a Python program to train an SVM Classifier and visualize the Confusion Matrix using seaborn.\n",
        "\n",
        "from sklearn import datasets\n",
        "from sklearn.svm import SVC\n",
        "from sklearn.model_selection import train_test_split\n",
        "from sklearn.metrics import confusion_matrix\n",
        "import seaborn as sns\n",
        "import matplotlib.pyplot as plt\n",
        "\n",
        "# Load Iris dataset\n",
        "iris = datasets.load_iris()\n",
        "X = iris.data\n",
        "y = iris.target\n",
        "\n",
        "# Split dataset into train and test sets\n",
        "X_train, X_test, y_train, y_test = train_test_split(X, y, test_size=0.2, random_state=42)\n",
        "\n",
        "# Train SVM classifier\n",
        "svm = SVC(kernel='linear', random_state=42)\n",
        "svm.fit(X_train, y_train)\n",
        "\n",
        "# Predict on test set\n",
        "y_pred = svm.predict(X_test)\n",
        "\n",
        "# Compute confusion matrix\n",
        "cm = confusion_matrix(y_test, y_pred)\n",
        "\n",
        "# Plot confusion matrix as heatmap\n",
        "plt.figure(figsize=(8,6))\n",
        "sns.heatmap(cm, annot=True, fmt='d', cmap='Blues',\n",
        "            xticklabels=iris.target_names, yticklabels=iris.target_names)\n",
        "plt.xlabel('Predicted Label')\n",
        "plt.ylabel('True Label')\n",
        "plt.title('Confusion Matrix - SVM Classifier on Iris Dataset')\n",
        "plt.show()\n"
      ],
      "metadata": {
        "colab": {
          "base_uri": "https://localhost:8080/",
          "height": 564
        },
        "id": "v-4XO7_Mknod",
        "outputId": "10695f1a-5197-49c4-c3e4-58d5ef36e7bd"
      },
      "execution_count": 27,
      "outputs": [
        {
          "output_type": "display_data",
          "data": {
            "text/plain": [
              "<Figure size 800x600 with 2 Axes>"
            ],
            "image/png": "[encoded data removed]"
          },
          "metadata": {}
        }
      ]
    },
    {
      "cell_type": "code",
      "source": [
        "#44. Write a Python program to train an SVM Regressor (SVR) and evaluate its performance using Mean Absolute Error (MAE) instead of MSE.\n",
        "\n",
        "from sklearn.datasets import fetch_california_housing\n",
        "from sklearn.model_selection import train_test_split\n",
        "from sklearn.svm import SVR\n",
        "from sklearn.metrics import mean_absolute_error\n",
        "\n",
        "# Load the California Housing dataset\n",
        "housing = fetch_california_housing()\n",
        "X = housing.data\n",
        "y = housing.target\n",
        "\n",
        "# Split the dataset into training and testing (80% train, 20% test)\n",
        "X_train, X_test, y_train, y_test = train_test_split(X, y, test_size=0.2, random_state=42)\n",
        "\n",
        "# Create and train the SVR model\n",
        "svr = SVR(kernel='rbf')\n",
        "svr.fit(X_train, y_train)\n",
        "\n",
        "# Predict on the test set\n",
        "y_pred = svr.predict(X_test)\n",
        "\n",
        "# Calculate Mean Absolute Error (MAE)\n",
        "mae = mean_absolute_error(y_test, y_pred)\n",
        "\n",
        "print(f\"Mean Absolute Error (MAE) of SVR model: {mae:.4f}\")\n"
      ],
      "metadata": {
        "colab": {
          "base_uri": "https://localhost:8080/"
        },
        "id": "E6542PK4koMs",
        "outputId": "27c555e2-0d2e-4412-9d25-3ae54c5bae47"
      },
      "execution_count": 28,
      "outputs": [
        {
          "output_type": "stream",
          "name": "stdout",
          "text": [
            "Mean Absolute Error (MAE) of SVR model: 0.8600\n"
          ]
        }
      ]
    },
    {
      "cell_type": "code",
      "source": [
        "#45. Write a Python program to train a Naïve Bayes classifier and evaluate its performance using the ROC-AUC score.\n",
        "\n",
        "import numpy as np\n",
        "from sklearn import datasets\n",
        "from sklearn.model_selection import train_test_split\n",
        "from sklearn.naive_bayes import GaussianNB\n",
        "from sklearn.metrics import roc_auc_score, roc_curve\n",
        "import matplotlib.pyplot as plt\n",
        "\n",
        "# Load the Breast Cancer dataset\n",
        "cancer = datasets.load_breast_cancer()\n",
        "X = cancer.data\n",
        "y = cancer.target\n",
        "\n",
        "# Split the dataset into training and testing sets (80% train, 20% test)\n",
        "X_train, X_test, y_train, y_test = train_test_split(X, y, test_size=0.2, random_state=42)\n",
        "\n",
        "# Initialize and train the Naïve Bayes classifier\n",
        "nb_classifier = GaussianNB()\n",
        "nb_classifier.fit(X_train, y_train)\n",
        "\n",
        "# Predict probabilities on the test set\n",
        "y_pred_proba = nb_classifier.predict_proba(X_test)[:, 1]  # Get probabilities for the positive class\n",
        "\n",
        "# Calculate ROC-AUC score\n",
        "roc_auc = roc_auc_score(y_test, y_pred_proba)\n",
        "\n",
        "# Print the ROC-AUC score\n",
        "print(f\"ROC-AUC Score: {roc_auc:.4f}\")\n",
        "\n",
        "# Optional: Plot ROC Curve\n",
        "fpr, tpr, thresholds = roc_curve(y_test, y_pred_proba)\n",
        "\n",
        "plt.figure(figsize=(8, 6))\n",
        "plt.plot(fpr, tpr, color='blue', label='ROC Curve (area = {:.2f})'.format(roc_auc))\n",
        "plt.plot([0, 1], [0, 1], color='red', linestyle='--')  # Diagonal line\n",
        "plt.xlim([0.0, 1.0])\n",
        "plt.ylim([0.0, 1.05])\n",
        "plt.xlabel('False Positive Rate')\n",
        "plt.ylabel('True Positive Rate')\n",
        "plt.title('Receiver Operating Characteristic (ROC) Curve')\n",
        "plt.legend(loc='lower right')\n",
        "plt.grid()\n",
        "plt.show()\n"
      ],
      "metadata": {
        "colab": {
          "base_uri": "https://localhost:8080/",
          "height": 581
        },
        "id": "K8WeoFkmkr_5",
        "outputId": "b64ac61f-df6f-4cfc-c7be-ed82048dfef4"
      },
      "execution_count": 29,
      "outputs": [
        {
          "output_type": "stream",
          "name": "stdout",
          "text": [
            "ROC-AUC Score: 0.9984\n"
          ]
        },
        {
          "output_type": "display_data",
          "data": {
            "text/plain": [
              "<Figure size 800x600 with 1 Axes>"
            ],
            "image/png": "[encoded data removed]"
          },
          "metadata": {}
        }
      ]
    },
    {
      "cell_type": "code",
      "source": [
        "#46. Write a Python program to train an SVM Classifier and visualize the Precision-Recall Curve.\n",
        "\n",
        "from sklearn import datasets\n",
        "from sklearn.svm import SVC\n",
        "from sklearn.model_selection import train_test_split\n",
        "from sklearn.metrics import precision_recall_curve, average_precision_score\n",
        "import matplotlib.pyplot as plt\n",
        "\n",
        "# Load Breast Cancer dataset\n",
        "cancer = datasets.load_breast_cancer()\n",
        "X = cancer.data\n",
        "y = cancer.target\n",
        "\n",
        "# Split dataset into train and test sets\n",
        "X_train, X_test, y_train, y_test = train_test_split(X, y, test_size=0.2, random_state=42)\n",
        "\n",
        "# Train an SVM classifier with probability estimates enabled\n",
        "svm = SVC(kernel='linear', probability=True, random_state=42)\n",
        "svm.fit(X_train, y_train)\n",
        "\n",
        "# Get predicted probabilities for the positive class\n",
        "y_scores = svm.predict_proba(X_test)[:, 1]\n",
        "\n",
        "# Compute precision-recall curve\n",
        "precision, recall, thresholds = precision_recall_curve(y_test, y_scores)\n",
        "\n",
        "# Compute average precision score (area under PR curve)\n",
        "avg_precision = average_precision_score(y_test, y_scores)\n",
        "\n",
        "# Plot Precision-Recall curve\n",
        "plt.figure(figsize=(8, 6))\n",
        "plt.step(recall, precision, where='post', color='b', alpha=0.7, label=f'Average Precision = {avg_precision:.2f}')\n",
        "plt.fill_between(recall, precision, alpha=0.2, color='b')\n",
        "\n",
        "plt.xlabel('Recall')\n",
        "plt.ylabel('Precision')\n",
        "plt.title('Precision-Recall Curve - SVM Classifier')\n",
        "plt.legend(loc='best')\n",
        "plt.grid(True)\n",
        "plt.show()\n"
      ],
      "metadata": {
        "colab": {
          "base_uri": "https://localhost:8080/",
          "height": 564
        },
        "id": "anKjID8tkxgr",
        "outputId": "f966966e-617b-4fda-b0f4-edb50935c1fe"
      },
      "execution_count": 30,
      "outputs": [
        {
          "output_type": "display_data",
          "data": {
            "text/plain": [
              "<Figure size 800x600 with 1 Axes>"
            ],
            "image/png": "[encoded data removed]"
          },
          "metadata": {}
        }
      ]
    }
  ]
}